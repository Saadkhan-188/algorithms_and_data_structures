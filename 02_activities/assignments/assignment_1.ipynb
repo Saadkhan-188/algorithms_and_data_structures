{
 "cells": [
  {
   "cell_type": "markdown",
   "metadata": {},
   "source": [
    "# Coding Problems\n",
    "\n",
    "## Objective\n",
    "\n",
    "This assignment aims to demonstrate how to study a data structures or algorithms question in depth to prepare for an industry coding interview. Leetcode is a popular coding practice site that many use to practice for technical interviews. Like behavioral interviews, it's important to practice and keep your skills sharp.\n",
    "\n",
    "## Group Size\n",
    "\n",
    "Please complete this individually.\n",
    "\n",
    "## Parts:\n",
    "- Part 1: Figure out the problem you have been assigned, and understand the problem\n",
    "- Part 2: Answer the questions about your assigned problem (including solving it)\n",
    "\n",
    "## Part 1:\n",
    "\n",
    "_*You will be assigned one of three problems based of your first name. Enter your first name, in all lower case, execute the code below, and that will tell you your assigned problem. Include the output as part of your submission (do not clear the output). The problems are based-off problems from Leetcode.*_\n"
   ]
  },
  {
   "cell_type": "markdown",
   "metadata": {},
   "source": [
    "##Coding Problems\n",
    "Objective\n",
    "This assignment aims to demonstrate how to study a data structures or algorithms question in depth to prepare for an industry coding interview. Leetcode is a popular coding practice site that many use to practice for technical interviews. Like behavioral interviews, it's important to practice and keep your skills sharp.\n",
    "\n",
    "Group Size\n",
    "Please complete this individually.\n",
    "\n",
    "Parts:\n",
    "Part 1: Figure out the problem you have been assigned, and understand the problem\n",
    "Part 2: Answer the questions about your assigned problem (including solving it)\n",
    "Part 1:\n",
    "*You will be assigned one of three problems based of your first name. Enter your first name, in all lower case, execute the code below, and that will tell you your assigned problem. Include the output as part of your submission (do not clear the output). The problems are based-off problems from Leetcode.*"
   ]
  },
  {
   "cell_type": "code",
   "execution_count": 3,
   "metadata": {},
   "outputs": [
    {
     "data": {
      "text/plain": [
       "\"\\n🔹 Syntactically correct — meaning it follows Python's structural rules\\n🔹 Semantically meaningful — it clearly communicates that:\\nhash_to_range is a function\\n\\ninput_string is expected to be a string (str)\\n\\nThe function will return an integer (int)\""
      ]
     },
     "execution_count": 3,
     "metadata": {},
     "output_type": "execute_result"
    }
   ],
   "source": [
    "#Just import the libraries\n",
    "'''\n",
    "🔹 Syntactically correct — meaning it follows Python's structural rules\n",
    "🔹 Semantically meaningful — it clearly communicates that:\n",
    "hash_to_range is a function\n",
    "\n",
    "input_string is expected to be a string (str)\n",
    "\n",
    "The function will return an integer (int)'''"
   ]
  },
  {
   "cell_type": "code",
   "execution_count": 33,
   "metadata": {},
   "outputs": [
    {
     "name": "stdout",
     "output_type": "stream",
     "text": [
      "1\n"
     ]
    }
   ],
   "source": [
    "import hashlib\n",
    "\n",
    "def hash_to_range(input_string: str) -> int: ## With type hints\n",
    "     \"\"\"\n",
    "     Is syntactically valid because it follows Python’s rules for:\n",
    "\n",
    "The def keyword\n",
    "A valid function name (hash_to_range)\n",
    "Parentheses containing parameters (input_string)\n",
    "Type hints (: str, -> int)\n",
    "A colon : to start the function body \n",
    "\n",
    "     \"\"\"\n",
    "     hash_object = hashlib.sha256(input_string.encode()) \n",
    "     hash_int = int(hash_object.hexdigest(), 16)\n",
    "     # Converts the hex digest into a base-10 integer.\n",
    "     return (hash_int % 3) + 1\n",
    "'''\n",
    "\n",
    "Reduces the massive hash integer into one of three buckets using modulus:\n",
    "\n",
    "% 3 gives 0, 1, or 2\n",
    "\n",
    "+1 shifts range to 1, 2, or 3\n",
    "     '''\n",
    "'''goal?\n",
    "To consistently assign an input string to one of 3 groups.\n",
    "\n",
    "For example:\n",
    "\n",
    "\"Alice\" always maps to 2\n",
    "\n",
    "\"Bob\" always maps to 3\n",
    "\n",
    "\"Charlie\" always maps to 1\n",
    "\n",
    "This technique is useful for:\n",
    "\n",
    "Splitting users into A/B/C test groups\n",
    "\n",
    "Sharding data across servers\n",
    "\n",
    "Assigning categories randomly but reproducibly    '''\n",
    "\n",
    "\n",
    "input_string = \"saad\"\n",
    "result = hash_to_range(input_string)\n",
    "print(result)\n"
   ]
  },
  {
   "cell_type": "markdown",
   "metadata": {},
   "source": [
    "## Question One: First Duplicate in List\n",
    "**Description**  \n",
    "Given a list of integers, return the **first value that appears more than once**. If there are multiple duplicates, return the one that appears **first** in the list. If no duplicate exists, return `-1`.\n",
    "\n",
    "**Examples**\n",
    "```python\n",
    "Input: nums = [3, 1, 4, 2, 5, 1, 6]\n",
    "Output: 1\n",
    "```\n",
    "```python\n",
    "Input: nums = [7, 8, 9, 10]\n",
    "Output: -1\n",
    "```\n",
    "```python\n",
    "Input: nums = [4, 5, 6, 4, 6]\n",
    "Output: 4\n",
    "```\n",
    "\n",
    "**Question 1 Starter Code**"
   ]
  },
  {
   "cell_type": "markdown",
   "metadata": {},
   "source": [
    "Side-by-Side Comparison\n",
    "Feature\t        Set-Based (Efficient)\tBrute Force (In-Place)\n",
    "Time Complexity\t    O(n)\t                 O(n²)\n",
    "Space Complexity\tO(n)\t                 O(1)\n",
    "Scalability\t    Excellent\t                Poor\n",
    "Readability\t    Very good\t                Moderate\n",
    "Best For\tLarge datasets\t        Small input or no space allowed\n",
    "\n",
    "Note: There is a tendency of inverse relation between time and space complexity"
   ]
  },
  {
   "cell_type": "code",
   "execution_count": 34,
   "metadata": {},
   "outputs": [
    {
     "data": {
      "text/plain": [
       "'\\ndef first_duplicate(nums):\\n    for i in range(len(nums)):\\n        for j in range(i + 1, len(nums)):\\n            if nums[i] == nums[j]:\\n                return nums[i]\\n    return -1 '"
      ]
     },
     "execution_count": 34,
     "metadata": {},
     "output_type": "execute_result"
    }
   ],
   "source": [
    "from typing import List\n",
    "\n",
    "def first_duplicate(nums: List[int]) -> int:\n",
    "    seen = set()\n",
    "    for num in nums:\n",
    "        if num in seen:\n",
    "            return num\n",
    "        seen.add(num)\n",
    "    return -1\n",
    "\n",
    "    # O(n) - more efficient, uses a set to track seen numbers\n",
    "''' def first_duplicate(nums):\n",
    "    for i in range(len(nums)):\n",
    "        for j in range(i + 1, len(nums)):\n",
    "            if nums[i] == nums[j]:\n",
    "                return nums[i]\n",
    "    return -1 \n",
    "    # O(n^2) - less efficient, but works'''\n",
    "\n",
    "'''\n",
    "def first_duplicate(nums):\n",
    "    for i in range(len(nums)):\n",
    "        for j in range(i + 1, len(nums)):\n",
    "            if nums[i] == nums[j]:\n",
    "                return nums[i]\n",
    "    return -1 '''\n",
    "\n"
   ]
  },
  {
   "cell_type": "markdown",
   "metadata": {},
   "source": [
    "## Question Two: Valid Bracket Sequence\n",
    "**Description**  \n",
    "Given a string containing only the characters `'('`, `')'`, `'{'`, `'}'`, `'['`, and `']'`, determine if the input string is a **valid bracket sequence**.  \n",
    "A string is valid if:\n",
    "- Open brackets are closed by the same type of brackets, and\n",
    "- Open brackets are closed in the correct order.\n",
    "\n",
    "**Examples**\n",
    "```python\n",
    "Input: s = \"([]{})\"\n",
    "Output: True\n",
    "```\n",
    "```python\n",
    "Input: s = \"([)]\"\n",
    "Output: False\n",
    "```\n",
    "```python\n",
    "Input: s = \"()[]{}\"\n",
    "Output: True\n",
    "```\n",
    "```python\n",
    "Input: s = \"[{]}\"\n",
    "Output: False\n",
    "```\n",
    "\n",
    "**Question 2 Starter Code**"
   ]
  },
  {
   "cell_type": "code",
   "execution_count": 35,
   "metadata": {},
   "outputs": [],
   "source": [
    "def is_valid_brackets(s: str) -> bool:\n",
    "   \n",
    "    stack = []\n",
    "    # Using a stack to track opening brackets\n",
    "    # If we encounter an opening bracket, we push it onto the stack \n",
    "    # If we encounter a closing bracket, we check if it matches the top of the stack\n",
    "    bracket_map = {')': '(', '}': '{', ']': '['}\n",
    "    # Mapping closing brackets to their corresponding opening brackets\n",
    "    # If it matches, we pop the stack; if not, we return False\n",
    "    # If the stack is empty at the end, all brackets were matched correctly\n",
    "    \n",
    "    for char in s:\n",
    "        # Iterate through each character in the string\n",
    "        if char in bracket_map.values():\n",
    "            # If the character is an opening bracket, push it onto the stack\n",
    "            stack.append(char) \n",
    "            '''\n",
    "You add items to the top → append()\n",
    "You remove items from the top → pop()   \n",
    "            '''\n",
    "        elif char in bracket_map.keys():\n",
    "            # If the character is a closing bracket\n",
    "            # Check if the stack is empty or if the top of the stack does not match the closing bracket\n",
    "            if not stack or stack[-1] != bracket_map[char]:\n",
    "                return False\n",
    "            stack.pop()\n",
    "    \n",
    "    return not stack  # True if stack is empty, False otherwise\n"
   ]
  },
  {
   "cell_type": "markdown",
   "metadata": {},
   "source": [
    "## Question Three: Move All Zeros to End\n",
    "**Description**  \n",
    "Given a list of integers, move all zeros to the end while maintaining the relative order of the non-zero elements. \n",
    "\n",
    "**Examples**\n",
    "```python\n",
    "Input: nums = [0, 1, 0, 3, 12]\n",
    "Output: [1, 3, 12, 0, 0]\n",
    "```\n",
    "```python\n",
    "Input: nums = [4, 0, 5, 0, 0, 6]\n",
    "Output: [4, 5, 6, 0, 0, 0]\n",
    "```\n"
   ]
  },
  {
   "cell_type": "code",
   "execution_count": 23,
   "metadata": {},
   "outputs": [
    {
     "name": "stdout",
     "output_type": "stream",
     "text": [
      "All tests passed.\n"
     ]
    }
   ],
   "source": [
    "from typing import List\n",
    "\n",
    "def move_zeros_to_end(nums: List[int]) -> List[int]:\n",
    " \n",
    "\n",
    "    \"\"\"\n",
    "    Moves all zeros in the list to the end while maintaining the order of non-zero elements.\n",
    "    Modifies the list in-place and returns it.\n",
    "    \"\"\"\n",
    "    non_zero_index = 0\n",
    "    for i in range(len(nums)):\n",
    "        if nums[i] != 0:\n",
    "            nums[non_zero_index] = nums[i]\n",
    "            non_zero_index += 1\n",
    "\n",
    "    for i in range(non_zero_index, len(nums)):\n",
    "        nums[i] = 0\n",
    "\n",
    "    return nums\n",
    "\n",
    "if __name__ == \"__main__\":\n",
    "    assert move_zeros_to_end([0, 1, 0, 3, 12]) == [1, 3, 12, 0, 0]\n",
    "    assert move_zeros_to_end([4, 0, 5, 0, 0, 6]) == [4, 5, 6, 0, 0, 0]\n",
    "    assert move_zeros_to_end([0, 0, 0]) == [0, 0, 0]\n",
    "    assert move_zeros_to_end([1, 2, 3]) == [1, 2, 3]\n",
    "    print(\"All tests passed.\")\n"
   ]
  },
  {
   "cell_type": "markdown",
   "metadata": {},
   "source": [
    "\n",
    "## Part 2:\n",
    "\n",
    "-   Paraphrase the problem in your own words\n",
    "(Relative to Question 1 )"
   ]
  },
  {
   "cell_type": "code",
   "execution_count": null,
   "metadata": {},
   "outputs": [],
   "source": [
    "# Duplicates are common in many datasets, and finding the first duplicate can help identify issues like data entry errors or unexpected behavior in algorithms.\n"
   ]
  },
  {
   "cell_type": "markdown",
   "metadata": {},
   "source": [
    "- In this .ipynb file, there are examples that illustrate how the code should work (the examples provided above). Create 2 new examples for the question you have been assigned, that demonstrate you understand the problem. For question 1 and 2, you don't need to create the tree demonstration, just the input and output.\n"
   ]
  },
  {
   "cell_type": "markdown",
   "metadata": {},
   "source": [
    "Input: nums = [6, 8, 4, 2, 5, 1, 6]\n",
    "Output: 6\n",
    "\n",
    "Input: nums = [5, 8, 9, 8]\n",
    "Output: 8\n",
    "\n"
   ]
  },
  {
   "cell_type": "markdown",
   "metadata": {},
   "source": [
    "\n",
    "-   Code the solution to your assigned problem in Python (code chunk). Note: each problem can be solved more simply if you use an abstract data type that is suitable for that problem. Using that try to find the best time and space complexity solution!\n"
   ]
  },
  {
   "cell_type": "code",
   "execution_count": 58,
   "metadata": {},
   "outputs": [],
   "source": [
    "from typing import List #(this is to the cell can run indepedently wihout running the top cell)\n",
    "\n",
    "def first_duplicate(nums: List[int]) -> int:\n",
    "    seen = set()\n",
    "    for num in nums:\n",
    "        if num in seen:\n",
    "            return num\n",
    "        seen.add(num)\n",
    "        \n",
    "    return -1"
   ]
  },
  {
   "cell_type": "markdown",
   "metadata": {},
   "source": [
    "\n",
    "-   Explain why your solution works\n"
   ]
  },
  {
   "cell_type": "code",
   "execution_count": null,
   "metadata": {},
   "outputs": [],
   "source": [
    "# First i start importing the List from typing module to use type hints for better code clarity and type checking. \n",
    "# the reason type hints are used is to indicate that the function expects a list of integers as input and will return an integer as output. \n",
    "# errors are caught early, making the code more robust and easier to understand when using type hints.\n",
    "\n",
    "# Then i define the function first_duplicate that takes a list of integers as input.\n",
    "\n",
    "# seen = set() initializes an empty set to keep track of numbers we have already encountered. \n",
    "# this is more efficient than using a list for lookups, as checking membership in a set is on average O(1) time complexity.\n",
    "\n",
    "# the reason using a set is 0(1) time complexity is because sets in Python are implemented as hash tables, allowing for average constant time complexity for membership checks.\n",
    "# The for loop iterates through each number in the input list nums.\n",
    "# If the current number num is already in the seen set, it means we have found our first duplicate, and we return that number.\n",
    "# If the number is not in the seen set, we add it to the set for future checks.\n",
    "# If we finish iterating through the list without finding any duplicates, we return -1 to indicate that there are no duplicates in the input list.  \n",
    "# This function is efficient with a time complexity of O(n), where n is the length of the input list, as it only requires a single pass through the list and uses a set for fast lookups."
   ]
  },
  {
   "cell_type": "markdown",
   "metadata": {},
   "source": [
    "\n",
    "-   Explain the problem’s time and space complexity\n"
   ]
  },
  {
   "cell_type": "code",
   "execution_count": null,
   "metadata": {},
   "outputs": [],
   "source": [
    "# State your solution and Explain how and why\n",
    "\n",
    "# The function first_duplicate efficiently finds the first duplicate number in a list of integers by using a set to track seen numbers, \n",
    "#  O(n) time complexity is achieved by iterating through the list once, checking membership in the set, and returning the first duplicate found or -1 if none exists.\n",
    "# o(n2) time complexity is avoided by not using nested loops, making the solution scalable for larger lists.\n",
    "# Example of nested for loops leading to O(n^2) time complexity: \n",
    " \n",
    "'''\n",
    "python \n",
    "def first_duplicate_nested(nums):\n",
    "    for i in range(len(nums)):\n",
    "        for j in range(i + 1, len(nums)):\n",
    "            if nums[i] == nums[j]:\n",
    "                return nums[i]\n",
    "    return -1\n",
    "```'''\n"
   ]
  },
  {
   "cell_type": "markdown",
   "metadata": {},
   "source": [
    "\n",
    "-   Explain the thinking to an alternative solution (no coding required, but a classmate reading this should be able to code it up based off your text)\n"
   ]
  },
  {
   "cell_type": "code",
   "execution_count": null,
   "metadata": {},
   "outputs": [],
   "source": [
    "# Your answer here\n",
    "'''\n",
    "Goal:\n",
    "Find the first value that appears more than once in a list, going from left to right.\n",
    "\n",
    "🧩 The Core Idea:\n",
    "We’re going to compare every number with every number that comes after it in the list.\n",
    "As soon as we find a match, we remember that number — but we only keep the one with the lowest first index.\n",
    "\n",
    "🪜 Step-by-Step Logic (Brute Force):\n",
    "Start at the first number in the list.\n",
    "\n",
    "Compare it with every number after it:\n",
    "\n",
    "If it matches, we’ve found a duplicate.\n",
    "\n",
    "Track the first index where a duplicate is found.\n",
    "\n",
    "Continue this process for every number in the list.\n",
    "\n",
    "Return the number whose duplicate was found first based on its original position.\n",
    "\n",
    "If no number repeats, return -1.\n",
    "\n",
    "'''"
   ]
  },
  {
   "cell_type": "markdown",
   "metadata": {},
   "source": [
    "## Evaluation Criteria\n",
    "\n",
    "-   Problem is accurately stated\n",
    "\n",
    "-   Two examples are correct and easily understandable\n",
    "\n",
    "-   Correctness, time, and space complexity of the coding solution\n",
    "\n",
    "-   Clarity in explaining why the solution works, its time and space complexity\n",
    "\n",
    "-   Clarity in the proposal to the alternative solution"
   ]
  },
  {
   "cell_type": "markdown",
   "metadata": {},
   "source": [
    "## Submission Information\n",
    "\n",
    "🚨 **Please review our [Assignment Submission Guide](https://github.com/UofT-DSI/onboarding/blob/main/onboarding_documents/submissions.md)** 🚨 for detailed instructions on how to format, branch, and submit your work. Following these guidelines is crucial for your submissions to be evaluated correctly.\n",
    "\n",
    "### Submission Parameters:\n",
    "* Submission Due Date: `HH:MM AM/PM - DD/MM/YYYY`\n",
    "* The branch name for your repo should be: `assignment-1`\n",
    "* What to submit for this assignment:\n",
    "    * This Jupyter Notebook (assignment_1.ipynb) should be populated and should be the only change in your pull request.\n",
    "* What the pull request link should look like for this assignment: `https://github.com/<your_github_username>/algorithms_and_data_structures/pull/<pr_id>`\n",
    "    * Open a private window in your browser. Copy and paste the link to your pull request into the address bar. Make sure you can see your pull request properly. This helps the technical facilitator and learning support staff review your submission easily.\n",
    "\n",
    "Checklist:\n",
    "- [ ] Create a branch called `assignment-1`.\n",
    "- [ ] Ensure that the repository is public.\n",
    "- [ ] Review [the PR description guidelines](https://github.com/UofT-DSI/onboarding/blob/main/onboarding_documents/submissions.md#guidelines-for-pull-request-descriptions) and adhere to them.\n",
    "- [ ] Verify that the link is accessible in a private browser window.\n",
    "\n",
    "If you encounter any difficulties or have questions, please don't hesitate to reach out to our team via our Slack at `#cohort-3-help`. Our Technical Facilitators and Learning Support staff are here to help you navigate any challenges."
   ]
  }
 ],
 "metadata": {
  "kernelspec": {
   "display_name": "dsi_participant",
   "language": "python",
   "name": "python3"
  },
  "language_info": {
   "codemirror_mode": {
    "name": "ipython",
    "version": 3
   },
   "file_extension": ".py",
   "mimetype": "text/x-python",
   "name": "python",
   "nbconvert_exporter": "python",
   "pygments_lexer": "ipython3",
   "version": "3.9.15"
  }
 },
 "nbformat": 4,
 "nbformat_minor": 4
}
